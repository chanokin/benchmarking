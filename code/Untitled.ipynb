{
 "cells": [
  {
   "cell_type": "code",
   "execution_count": 196,
   "metadata": {
    "collapsed": false
   },
   "outputs": [],
   "source": [
    "%matplotlib inline\n",
    "import math\n",
    "import random\n",
    "import sys\n",
    "import matplotlib.pyplot as plt\n",
    "import numpy as np\n",
    "import pyNN.nest as p"
   ]
  },
  {
   "cell_type": "code",
   "execution_count": 197,
   "metadata": {
    "collapsed": true
   },
   "outputs": [],
   "source": [
    "def plot_digit(img_raw):\n",
    "    img_raw = np.uint8(img_raw)\n",
    "    plt.figure(figsize=(5,5))\n",
    "    plt.imshow(np.reshape(img_raw,(28,28)))"
   ]
  },
  {
   "cell_type": "code",
   "execution_count": 198,
   "metadata": {
    "collapsed": false
   },
   "outputs": [],
   "source": [
    "def get_train_data():\n",
    "    file_name = 'train-images.idx3-ubyte'\n",
    "    f = open(file_name, \"rb\")\n",
    "    magic_number, list_size, image_hight, image_width  = np.fromfile(f, dtype='>i4', count=4)\n",
    "    train_x = np.fromfile(f, dtype='>u1', count=list_size*image_hight*image_width)\n",
    "    train_x = np.reshape(train_x, (list_size,image_hight*image_width))\n",
    "    f.close()\n",
    "    \n",
    "    file_name = 'train-labels.idx1-ubyte'\n",
    "    f = open(file_name, \"rb\")\n",
    "    magic_number, list_size = np.fromfile(f, dtype='>i4', count=2)\n",
    "    train_y = np.fromfile(f, dtype='>u1', count=list_size*image_hight*image_width)\n",
    "    f.close()\n",
    "    \n",
    "    return np.double(train_x), np.double(train_y)"
   ]
  },
  {
   "cell_type": "code",
   "execution_count": 199,
   "metadata": {
    "collapsed": true
   },
   "outputs": [],
   "source": [
    "def get_test_data():\n",
    "    file_name = 't10k-images.idx3-ubyte'\n",
    "    f = open(file_name, \"rb\")\n",
    "    magic_number, list_size, image_hight, image_width  = np.fromfile(f, dtype='>i4', count=4)\n",
    "    test_x = np.fromfile(f, dtype='>u1', count=list_size*image_hight*image_width)\n",
    "    test_x = np.reshape(test_x, (list_size,image_hight*image_width))\n",
    "    f.close()\n",
    "    \n",
    "    file_name = 't10k-labels.idx1-ubyte'\n",
    "    f = open(file_name, \"rb\")\n",
    "    magic_number, list_size = np.fromfile(f, dtype='>i4', count=2)\n",
    "    test_y = np.fromfile(f, dtype='>u1', count=list_size*image_hight*image_width)\n",
    "    f.close()\n",
    "    \n",
    "    return np.double(test_x), np.double(test_y)"
   ]
  },
  {
   "cell_type": "code",
   "execution_count": 200,
   "metadata": {
    "collapsed": false
   },
   "outputs": [],
   "source": [
    "def nextTime(rateParameter):\n",
    "    return -math.log(1.0 - random.random()) / rateParameter\n",
    "def poisson_generator(rate, t_start, t_stop):\n",
    "    poisson_train = []\n",
    "    if rate > 0:\n",
    "        next_isi = nextTime(rate)*1000.\n",
    "        last_time = next_isi\n",
    "        while last_time < t_stop:\n",
    "            poisson_train.append(last_time)\n",
    "            next_isi = nextTime(rate)*1000.\n",
    "            last_time += next_isi\n",
    "    return poisson_train\n"
   ]
  },
  {
   "cell_type": "code",
   "execution_count": 336,
   "metadata": {
    "collapsed": false
   },
   "outputs": [],
   "source": [
    "def mnist_poisson_gen(image_list, image_height, image_width, max_freq, duration, silence):\n",
    "    if max_freq > 0:\n",
    "        for i in range(image_list.shape[0]):\n",
    "            image_list[i] = image_list[i]/sum(image_list[i])*max_freq\n",
    "    \n",
    "    spike_source_data = x = [[] for i in range(image_height*image_width)]\n",
    "    \n",
    "    for i in range(image_list.shape[0]):\n",
    "        t_start = i*(duration+silence)\n",
    "        t_stop = t_start+duration\n",
    "        for j in range(image_height*image_width):\n",
    "            spikes = poisson_generator(image_list[i][j], t_start, t_stop)\n",
    "            spike_source_data[j].extend(spikes)\n",
    "            \n",
    "    return spike_source_data"
   ]
  },
  {
   "cell_type": "code",
   "execution_count": 371,
   "metadata": {
    "collapsed": false
   },
   "outputs": [],
   "source": [
    "def spike_to_aerfile(spike_source_array, file_name):\n",
    "    time_stamp = []\n",
    "    neuron_id = []\n",
    "    num_spike = len(spike_source_array)\n",
    "    for i in range(num_spike):\n",
    "        spikes = spike_source_array[i]\n",
    "        #print spikes\n",
    "        if spikes != []:\n",
    "            time_stamp.extend(spikes)\n",
    "            neuron_id.extend([i]*len(spikes))\n",
    "            \n",
    "    sort_index = sorted(range(len(time_stamp)), key=time_stamp.__getitem__)\n",
    "    AllTs = np.uint32(np.ceil(np.array(time_stamp)[sort_index]*1000.)) #in mus\n",
    "    neuron_id = np.array(neuron_id)[sort_index]\n",
    "    y = neuron_id/image_size\n",
    "    x = neuron_id%image_size\n",
    "    \n",
    "    AllAddr = np.uint32((x << 1) + (y << 1) * 128 + 1)\n",
    "    print neuron_id, x, y,AllAddr\n",
    "    f = open('abc.aedat','w')\n",
    "    tok='#!AER-DAT'\n",
    "    tok2='# This is a raw AE data file - do not edit'\n",
    "    tok3='# Data format is int32 address, int32 timestamp (8 bytes total), repeated for each event'\n",
    "    tok4='# Timestamps tick is 1 us'\n",
    "    tok5='# created Tue Apr 29 11:36:59 CEST 2008'\n",
    "    v=2.0\n",
    "\n",
    "    f.write('%s'%tok)\n",
    "    f.write('%1.1f\\r\\n'%v)\n",
    "    f.write('%s\\r\\n'%tok2)\n",
    "    f.write('%s\\r\\n'%tok3)\n",
    "    f.write('%s\\r\\n'%tok4)\n",
    "    f.write('%s\\r\\n'%tok5)\n",
    "\n",
    "    bof=f.tell()\n",
    "    #f.seek(-4,2)\n",
    "    All = np.uint32(np.zeros((2,len(AllTs))))\n",
    "    All[0] = AllAddr\n",
    "    All[1] = AllTs\n",
    "    All = np.reshape(np.transpose(All),(1,len(AllTs)+len(AllAddr)))[0]\n",
    "    All = All.astype(dtype='>u4')\n",
    "    All.tofile(f)\n",
    "    f.close()\n",
    "\n",
    "    return AllTs, AllAddr"
   ]
  },
  {
   "cell_type": "code",
   "execution_count": 372,
   "metadata": {
    "collapsed": false
   },
   "outputs": [
    {
     "name": "stdout",
     "output_type": "stream",
     "text": [
      "[299 273 574 ..., 243 354 655] [19 21 14 ..., 19 18 11] [10  9 20 ...,  8 12 23] [2599 2347 5149 ..., 2087 3109 5911]\n"
     ]
    }
   ],
   "source": [
    " spike_source_data = mnist_poisson_gen(train_x[0:1], 28, 28, 5000, 1000, 100)\n",
    "time_stamp, neuron_id = spike_to_aerfile(spike_source_data, '')"
   ]
  },
  {
   "cell_type": "code",
   "execution_count": 368,
   "metadata": {
    "collapsed": false
   },
   "outputs": [
    {
     "data": {
      "text/plain": [
       "array([747, 725, 633, ..., 771, 723, 409], dtype=uint32)"
      ]
     },
     "execution_count": 368,
     "metadata": {},
     "output_type": "execute_result"
    }
   ],
   "source": [
    "neuron_id"
   ]
  },
  {
   "cell_type": "code",
   "execution_count": 231,
   "metadata": {
    "collapsed": false
   },
   "outputs": [
    {
     "data": {
      "text/plain": [
       "array([ 6,  6,  6, ..., 52, 52, 52])"
      ]
     },
     "execution_count": 231,
     "metadata": {},
     "output_type": "execute_result"
    }
   ],
   "source": [
    "a=[1,6,3,9,4,9,7]\n",
    "x << 1\n",
    "#sorted(range(len(a)), key=a.__getitem__)"
   ]
  },
  {
   "cell_type": "code",
   "execution_count": 171,
   "metadata": {
    "collapsed": false
   },
   "outputs": [
    {
     "data": {
      "text/plain": [
       "False"
      ]
     },
     "execution_count": 171,
     "metadata": {},
     "output_type": "execute_result"
    }
   ],
   "source": [
    "s = poisson_generator(20,0,1000)\n",
    "s == []"
   ]
  },
  {
   "cell_type": "code",
   "execution_count": null,
   "metadata": {
    "collapsed": false
   },
   "outputs": [],
   "source": [
    "a = range(9)\n",
    "a= np.reshape(a,(3,3))\n",
    "print a\n",
    "a = [each*1.0/sum(each) for each in a]\n",
    "a"
   ]
  },
  {
   "cell_type": "code",
   "execution_count": null,
   "metadata": {
    "collapsed": false
   },
   "outputs": [],
   "source": [
    "p.setup(timestep=1.0, min_delay=1.0, max_delay=3.0)\n",
    "a = p.Population(2, p.SpikeSourceArray,{'spike_times':[1,2,3]} )\n",
    "a[1].spike_times=[2.0,3.0,4.3]\n",
    "print a[1].spike_times\n",
    "p.end()"
   ]
  },
  {
   "cell_type": "code",
   "execution_count": null,
   "metadata": {
    "collapsed": false
   },
   "outputs": [],
   "source": [
    "np.array([2,3,4])"
   ]
  },
  {
   "cell_type": "code",
   "execution_count": null,
   "metadata": {
    "collapsed": false
   },
   "outputs": [],
   "source": [
    "import random\n",
    "t=0\n",
    "for i in range(1,10):\n",
    "     t+=random.expovariate(15)*1000\n",
    "     print t "
   ]
  },
  {
   "cell_type": "code",
   "execution_count": 286,
   "metadata": {
    "collapsed": false
   },
   "outputs": [
    {
     "data": {
      "text/plain": [
       "69"
      ]
     },
     "execution_count": 286,
     "metadata": {},
     "output_type": "execute_result"
    }
   ],
   "source": [
    "All = np.uint32(np.zeros((2,len(AllTs))))\n",
    "All[0] = AllAddr\n",
    "All[1] = AllTs\n",
    "All = np.reshape(np.transpose(All),(1,len(AllTs)+len(AllAddr)))[0]\n",
    "All[1]\n",
    "#np.reshape(np.transpose(np.reshape(np.append(a,b),(2,3))),(1,6))"
   ]
  },
  {
   "cell_type": "code",
   "execution_count": 341,
   "metadata": {
    "collapsed": false
   },
   "outputs": [
    {
     "data": {
      "text/plain": [
       "array([3, 2, 1])"
      ]
     },
     "execution_count": 341,
     "metadata": {},
     "output_type": "execute_result"
    }
   ],
   "source": [
    "a = [1, 2, 3]\n",
    "ind = [2, 1 ,0]\n",
    "a = np.array(a)[ind]\n",
    "a"
   ]
  },
  {
   "cell_type": "code",
   "execution_count": null,
   "metadata": {
    "collapsed": true
   },
   "outputs": [],
   "source": []
  }
 ],
 "metadata": {
  "kernelspec": {
   "display_name": "Python 2",
   "language": "python",
   "name": "python2"
  },
  "language_info": {
   "codemirror_mode": {
    "name": "ipython",
    "version": 2
   },
   "file_extension": ".py",
   "mimetype": "text/x-python",
   "name": "python",
   "nbconvert_exporter": "python",
   "pygments_lexer": "ipython2",
   "version": "2.7.6"
  }
 },
 "nbformat": 4,
 "nbformat_minor": 0
}
